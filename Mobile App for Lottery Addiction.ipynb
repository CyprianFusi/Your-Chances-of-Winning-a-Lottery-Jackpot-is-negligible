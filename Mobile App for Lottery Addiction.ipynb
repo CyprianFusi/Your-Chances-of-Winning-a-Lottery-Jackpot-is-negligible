{
 "cells": [
  {
   "cell_type": "markdown",
   "metadata": {},
   "source": [
    "# A Mobile App to help Lottery addicts to better estimate their chances of Winning\n",
    "### The Scenario (Fictional)\n",
    "A medical institute that aims to **prevent and treat gambling addictions** wants to build a dedicated mobile app to help lottery addicts better estimate their chances of winning. The institute has a team of engineers that will build the app, but they need assistance in the **logical core of the app and how to calculate probabilities**.\n",
    "\n",
    "### Our Goal\n",
    "For this version of the app, we would focus on the [6/49 lottery](https://en.wikipedia.org/wiki/Lotto_6/49) and build functions that enable users to answer questions like:\n",
    "\n",
    "* What is the probability of winning the big prize with a single ticket?\n",
    "* What is the probability of winning the big prize if we play **40** different tickets (or any other number)?\n",
    "* What is the probability of having at least five (or four, or three, or two) winning numbers on a single ticket?\n",
    "\n",
    "### The Dataset\n",
    "The institute also wants us to consider historical data coming from the [national 6/49 lottery game in Canada](https://www.kaggle.com/datascienceai/lottery-dataset). This data set has data for **`3,665`** drawings, dating from 1982 to 2018.\n",
    "\n",
    "### Import the needed functions\n",
    "We shall need to calculate probabilities and for this we shall need **factorials, permutations** and **combinations**. We shall make use of the Python implementation of these fuctions instead of writing custom functions."
   ]
  },
  {
   "cell_type": "code",
   "execution_count": 1,
   "metadata": {},
   "outputs": [],
   "source": [
    "import numpy as np\n",
    "import pandas as pd\n",
    "from math import factorial\n",
    "from itertools import permutations, combinations, combinations_with_replacement"
   ]
  },
  {
   "cell_type": "markdown",
   "metadata": {},
   "source": [
    "### One-ticket Probability: The probability of winning the big prize\n",
    "In the **6/49 lottery, six numbers are drawn from a set of 49 numbers that range from 1 to 49**. A player wins the big prize if the **six numbers on their tickets match all the six numbers drawn**. If a player has a ticket with the numbers `{13, 22, 24, 27, 42, 44}`, he only wins the big prize if the numbers drawn are `{13, 22, 24, 27, 42, 44}`. **If only one number differs, he doesn't win**."
   ]
  },
  {
   "cell_type": "code",
   "execution_count": 2,
   "metadata": {},
   "outputs": [],
   "source": [
    "def one_ticket_probability(nums):\n",
    "    if len(nums) != 6 or len(np.unique(nums)) != 6 or min(nums) < 1 or max(nums) > 49:\n",
    "        return 'Enter exactly 6 unique numbers between 1 and 49'\n",
    "    comb = combinations(list(range(1, 50)), 6)\n",
    "    n_comb = len(list(comb))\n",
    "    prob = 1 / n_comb\n",
    "    print('Your chances of winning is: ' + str(prob * 100) + '%' )"
   ]
  },
  {
   "cell_type": "markdown",
   "metadata": {},
   "source": [
    "### Testing the function\n",
    "* Using valid 6 digits\n",
    "* Using 5 digits\n",
    "* Using 7 digits\n",
    "* Using repeated digits\n",
    "* Using number < 1 or > 49"
   ]
  },
  {
   "cell_type": "code",
   "execution_count": 3,
   "metadata": {},
   "outputs": [
    {
     "name": "stdout",
     "output_type": "stream",
     "text": [
      "Your chances of winning is: 7.151123842018516e-06%\n"
     ]
    }
   ],
   "source": [
    "nums = [1, 2, 3, 4, 5, 6]\n",
    "one_ticket_probability(nums)"
   ]
  },
  {
   "cell_type": "code",
   "execution_count": 4,
   "metadata": {},
   "outputs": [
    {
     "data": {
      "text/plain": [
       "'Enter exactly 6 unique numbers between 1 and 49'"
      ]
     },
     "execution_count": 4,
     "metadata": {},
     "output_type": "execute_result"
    }
   ],
   "source": [
    "nums = [1, 2, 3, 4, 5]\n",
    "one_ticket_probability(nums)"
   ]
  },
  {
   "cell_type": "code",
   "execution_count": 5,
   "metadata": {},
   "outputs": [
    {
     "data": {
      "text/plain": [
       "'Enter exactly 6 unique numbers between 1 and 49'"
      ]
     },
     "execution_count": 5,
     "metadata": {},
     "output_type": "execute_result"
    }
   ],
   "source": [
    "nums = [1, 2, 3, 4, 5, 6, 5]\n",
    "one_ticket_probability(nums)"
   ]
  },
  {
   "cell_type": "code",
   "execution_count": 6,
   "metadata": {},
   "outputs": [
    {
     "data": {
      "text/plain": [
       "'Enter exactly 6 unique numbers between 1 and 49'"
      ]
     },
     "execution_count": 6,
     "metadata": {},
     "output_type": "execute_result"
    }
   ],
   "source": [
    "nums = [1, 2, 3, 4, 5, 5]\n",
    "one_ticket_probability(nums)"
   ]
  },
  {
   "cell_type": "code",
   "execution_count": 7,
   "metadata": {},
   "outputs": [
    {
     "data": {
      "text/plain": [
       "'Enter exactly 6 unique numbers between 1 and 49'"
      ]
     },
     "execution_count": 7,
     "metadata": {},
     "output_type": "execute_result"
    }
   ],
   "source": [
    "nums = [1, 2, 3, 4, 5, 0]\n",
    "one_ticket_probability(nums)"
   ]
  },
  {
   "cell_type": "code",
   "execution_count": 8,
   "metadata": {},
   "outputs": [
    {
     "data": {
      "text/plain": [
       "'Enter exactly 6 unique numbers between 1 and 49'"
      ]
     },
     "execution_count": 8,
     "metadata": {},
     "output_type": "execute_result"
    }
   ],
   "source": [
    "nums = [1, 2, 3, 4, 5, 100]\n",
    "one_ticket_probability(nums)"
   ]
  },
  {
   "cell_type": "markdown",
   "metadata": {},
   "source": [
    "### Historical Data Check for Canada Lottery\n",
    "Users should also be able to compare their ticket against the historical lottery data in Canada and determine whether they would have ever won. The data set can be downloaded from [Kaggle](https://www.kaggle.com/datascienceai/lottery-dataset). "
   ]
  },
  {
   "cell_type": "code",
   "execution_count": 9,
   "metadata": {},
   "outputs": [
    {
     "name": "stdout",
     "output_type": "stream",
     "text": [
      "(3665, 11)\n"
     ]
    },
    {
     "data": {
      "text/html": [
       "<div>\n",
       "<style scoped>\n",
       "    .dataframe tbody tr th:only-of-type {\n",
       "        vertical-align: middle;\n",
       "    }\n",
       "\n",
       "    .dataframe tbody tr th {\n",
       "        vertical-align: top;\n",
       "    }\n",
       "\n",
       "    .dataframe thead th {\n",
       "        text-align: right;\n",
       "    }\n",
       "</style>\n",
       "<table border=\"1\" class=\"dataframe\">\n",
       "  <thead>\n",
       "    <tr style=\"text-align: right;\">\n",
       "      <th></th>\n",
       "      <th>PRODUCT</th>\n",
       "      <th>DRAW NUMBER</th>\n",
       "      <th>SEQUENCE NUMBER</th>\n",
       "      <th>DRAW DATE</th>\n",
       "      <th>NUMBER DRAWN 1</th>\n",
       "      <th>NUMBER DRAWN 2</th>\n",
       "      <th>NUMBER DRAWN 3</th>\n",
       "      <th>NUMBER DRAWN 4</th>\n",
       "      <th>NUMBER DRAWN 5</th>\n",
       "      <th>NUMBER DRAWN 6</th>\n",
       "      <th>BONUS NUMBER</th>\n",
       "    </tr>\n",
       "  </thead>\n",
       "  <tbody>\n",
       "    <tr>\n",
       "      <th>0</th>\n",
       "      <td>649</td>\n",
       "      <td>1</td>\n",
       "      <td>0</td>\n",
       "      <td>6/12/1982</td>\n",
       "      <td>3</td>\n",
       "      <td>11</td>\n",
       "      <td>12</td>\n",
       "      <td>14</td>\n",
       "      <td>41</td>\n",
       "      <td>43</td>\n",
       "      <td>13</td>\n",
       "    </tr>\n",
       "    <tr>\n",
       "      <th>1</th>\n",
       "      <td>649</td>\n",
       "      <td>2</td>\n",
       "      <td>0</td>\n",
       "      <td>6/19/1982</td>\n",
       "      <td>8</td>\n",
       "      <td>33</td>\n",
       "      <td>36</td>\n",
       "      <td>37</td>\n",
       "      <td>39</td>\n",
       "      <td>41</td>\n",
       "      <td>9</td>\n",
       "    </tr>\n",
       "    <tr>\n",
       "      <th>2</th>\n",
       "      <td>649</td>\n",
       "      <td>3</td>\n",
       "      <td>0</td>\n",
       "      <td>6/26/1982</td>\n",
       "      <td>1</td>\n",
       "      <td>6</td>\n",
       "      <td>23</td>\n",
       "      <td>24</td>\n",
       "      <td>27</td>\n",
       "      <td>39</td>\n",
       "      <td>34</td>\n",
       "    </tr>\n",
       "    <tr>\n",
       "      <th>3</th>\n",
       "      <td>649</td>\n",
       "      <td>4</td>\n",
       "      <td>0</td>\n",
       "      <td>7/3/1982</td>\n",
       "      <td>3</td>\n",
       "      <td>9</td>\n",
       "      <td>10</td>\n",
       "      <td>13</td>\n",
       "      <td>20</td>\n",
       "      <td>43</td>\n",
       "      <td>34</td>\n",
       "    </tr>\n",
       "    <tr>\n",
       "      <th>4</th>\n",
       "      <td>649</td>\n",
       "      <td>5</td>\n",
       "      <td>0</td>\n",
       "      <td>7/10/1982</td>\n",
       "      <td>5</td>\n",
       "      <td>14</td>\n",
       "      <td>21</td>\n",
       "      <td>31</td>\n",
       "      <td>34</td>\n",
       "      <td>47</td>\n",
       "      <td>45</td>\n",
       "    </tr>\n",
       "  </tbody>\n",
       "</table>\n",
       "</div>"
      ],
      "text/plain": [
       "   PRODUCT  DRAW NUMBER  SEQUENCE NUMBER  DRAW DATE  NUMBER DRAWN 1  \\\n",
       "0      649            1                0  6/12/1982               3   \n",
       "1      649            2                0  6/19/1982               8   \n",
       "2      649            3                0  6/26/1982               1   \n",
       "3      649            4                0   7/3/1982               3   \n",
       "4      649            5                0  7/10/1982               5   \n",
       "\n",
       "   NUMBER DRAWN 2  NUMBER DRAWN 3  NUMBER DRAWN 4  NUMBER DRAWN 5  \\\n",
       "0              11              12              14              41   \n",
       "1              33              36              37              39   \n",
       "2               6              23              24              27   \n",
       "3               9              10              13              20   \n",
       "4              14              21              31              34   \n",
       "\n",
       "   NUMBER DRAWN 6  BONUS NUMBER  \n",
       "0              43            13  \n",
       "1              41             9  \n",
       "2              39            34  \n",
       "3              43            34  \n",
       "4              47            45  "
      ]
     },
     "execution_count": 9,
     "metadata": {},
     "output_type": "execute_result"
    }
   ],
   "source": [
    "df = pd.read_csv('649.csv')\n",
    "print(df.shape)\n",
    "df.head()"
   ]
  },
  {
   "cell_type": "markdown",
   "metadata": {},
   "source": [
    "### Function for Historical Data Check\n",
    "#### Extract all unqiue 6 historical winning numbers (combinations)"
   ]
  },
  {
   "cell_type": "code",
   "execution_count": 10,
   "metadata": {},
   "outputs": [],
   "source": [
    "def extract_numbers(row):\n",
    "    return set(row[4:10]) "
   ]
  },
  {
   "cell_type": "code",
   "execution_count": 11,
   "metadata": {},
   "outputs": [],
   "source": [
    "historical = [extract_numbers(row) for row in df.values]"
   ]
  },
  {
   "cell_type": "code",
   "execution_count": 12,
   "metadata": {},
   "outputs": [
    {
     "data": {
      "text/plain": [
       "[{3, 11, 12, 14, 41, 43}, {8, 33, 36, 37, 39, 41}, {1, 6, 23, 24, 27, 39}]"
      ]
     },
     "execution_count": 12,
     "metadata": {},
     "output_type": "execute_result"
    }
   ],
   "source": [
    "historical[:3]"
   ]
  },
  {
   "cell_type": "markdown",
   "metadata": {},
   "source": [
    "### Helper function to check historical winning numbers\n",
    "If you had played the lottery in the past using the combinations you today would you have won? Let's find out..."
   ]
  },
  {
   "cell_type": "code",
   "execution_count": 13,
   "metadata": {},
   "outputs": [],
   "source": [
    "def check_historical_occurence(nums, historical):\n",
    "    if len(nums) != 6 or len(np.unique(nums)) != 6 or min(nums) < 1 or max(nums) > 49:\n",
    "        return 'Enter exactly 6 unique numbers between 1 and 49'\n",
    "    nums = set(nums)\n",
    "    wins = [nums == hist for hist in historical]\n",
    "    comb = combinations(list(range(1, 50)), 6)\n",
    "    n_comb = len(list(comb))\n",
    "    prob = sum(wins) / n_comb\n",
    "    print('Your chances of winning is: ' + str(prob * 100) + '%' )"
   ]
  },
  {
   "cell_type": "markdown",
   "metadata": {},
   "source": [
    "#### Testing our function\n",
    "* Using random input\n",
    "* Using a past known winning combination"
   ]
  },
  {
   "cell_type": "code",
   "execution_count": 14,
   "metadata": {},
   "outputs": [
    {
     "name": "stdout",
     "output_type": "stream",
     "text": [
      "Your chances of winning is: 0.0%\n"
     ]
    }
   ],
   "source": [
    "nums = [1, 2, 3, 4, 5, 6]\n",
    "check_historical_occurence(nums, historical)"
   ]
  },
  {
   "cell_type": "code",
   "execution_count": 15,
   "metadata": {},
   "outputs": [
    {
     "name": "stdout",
     "output_type": "stream",
     "text": [
      "Your chances of winning is: 7.151123842018516e-06%\n"
     ]
    }
   ],
   "source": [
    "nums = [3, 11, 12, 14, 41, 43]\n",
    "check_historical_occurence(nums, historical)"
   ]
  },
  {
   "cell_type": "markdown",
   "metadata": {},
   "source": [
    "## Multi-ticket Probability\n",
    "Lottery addicts usually play more than one ticket on a single drawing, thinking that this might increase their chances of winning significantly. Our purpose is to help them better estimate their chances of winning...**Let's find out the chances of winning with any number of tickets**. "
   ]
  },
  {
   "cell_type": "code",
   "execution_count": 16,
   "metadata": {},
   "outputs": [],
   "source": [
    "def multi_ticket_probability(n_tickets):\n",
    "    comb = combinations(list(range(1, 50)), 6)\n",
    "    n_comb = len(list(comb))\n",
    "    if n_tickets < 1 or n_tickets > n_comb:\n",
    "        return 'Enter a number between 1 and ' + str(n_comb)\n",
    "    prob = n_tickets / n_comb\n",
    "    print('With ' + str(n_tickets) + ' tickets, your chances of winning is: ', str(prob * 100) + '%' )"
   ]
  },
  {
   "cell_type": "code",
   "execution_count": 17,
   "metadata": {},
   "outputs": [
    {
     "name": "stdout",
     "output_type": "stream",
     "text": [
      "With 1 tickets, your chances of winning is:  7.151123842018516e-06%\n",
      "With 10 tickets, your chances of winning is:  7.151123842018517e-05%\n",
      "With 100 tickets, your chances of winning is:  0.0007151123842018516%\n",
      "With 10000 tickets, your chances of winning is:  0.07151123842018516%\n",
      "With 1000000 tickets, your chances of winning is:  7.151123842018517%\n",
      "With 6991908 tickets, your chances of winning is:  50.0%\n",
      "With 13983816 tickets, your chances of winning is:  100.0%\n"
     ]
    }
   ],
   "source": [
    "num_tickets = [1, 10, 100, 10000, 1000000, 6991908, 13983816]\n",
    "for n in num_tickets:\n",
    "    multi_ticket_probability(n)"
   ]
  },
  {
   "cell_type": "markdown",
   "metadata": {},
   "source": [
    "**As we can see, even with `100` tickets the chances of winning is still extremely slim!**\n",
    "\n",
    "***We do not expect anyone, no matter the level of addiction, to purchase `6,991,908` tickets just to stand a `50%` chance of winning!!***\n",
    "\n",
    "### Less Winning Numbers — Function\n",
    "In most **6/49 lotteries** there are smaller prizes if a player's ticket match **two, three, four, or five** of the six numbers drawn. As a consequence, the users might be interested in knowing the probability of having **two, three, four, or five** winning numbers."
   ]
  },
  {
   "cell_type": "code",
   "execution_count": 18,
   "metadata": {},
   "outputs": [],
   "source": [
    "def probability_less_6(n):\n",
    "    if n < 2 or n > 5:\n",
    "        print('Enter a number between 2 and 5 inclusive.')\n",
    "    comb_6 = combinations(list(range(1, 7)), n)\n",
    "    num_6 = len(list(comb_6))\n",
    "    comb_rem = combinations(list(range(1, 44)), 6 - n)\n",
    "    num_rem = len(list(comb_rem))\n",
    "    num_total_outcomes = num_6 * num_rem\n",
    "    comb = combinations(list(range(1, 50)), 6)\n",
    "    n_comb = len(list(comb))\n",
    "    print('Your chances of matching ' + str(n) + ' numbers is: ' + str(num_total_outcomes / n_comb * 100) + '%')"
   ]
  },
  {
   "cell_type": "code",
   "execution_count": 19,
   "metadata": {},
   "outputs": [
    {
     "name": "stdout",
     "output_type": "stream",
     "text": [
      "Your chances of matching 5 numbers is: 0.0018449899512407771%\n"
     ]
    }
   ],
   "source": [
    "probability_less_6(5)"
   ]
  },
  {
   "cell_type": "code",
   "execution_count": 20,
   "metadata": {},
   "outputs": [
    {
     "name": "stdout",
     "output_type": "stream",
     "text": [
      "Your chances of matching 2 numbers is: 13.237802900152577%\n",
      "Your chances of matching 3 numbers is: 1.7650403866870101%\n",
      "Your chances of matching 4 numbers is: 0.0968619724401408%\n",
      "Your chances of matching 5 numbers is: 0.0018449899512407771%\n"
     ]
    }
   ],
   "source": [
    "matches = [2,3,4,5]\n",
    "for n in matches:\n",
    "    probability_less_6(n)"
   ]
  },
  {
   "cell_type": "markdown",
   "metadata": {},
   "source": [
    "### Simulating A Lottery Draw\n",
    "The function below draws **a combination of 6 digits from the total of `13,983,816`** and compares it with the six digits provided by the user and declare the results! Whether:\n",
    "\n",
    "* You won the jackpot with 6 matching digits\n",
    "* You lost with no matching digits\n",
    "* How close you came to winning (the number of matching digits)"
   ]
  },
  {
   "cell_type": "code",
   "execution_count": 32,
   "metadata": {},
   "outputs": [],
   "source": [
    "def ticket_probability(nums):\n",
    "    if len(nums) != 6 or len(np.unique(nums)) != 6 or min(nums) < 1 or max(nums) > 49:\n",
    "        return 'Enter exactly 6 unique numbers between 1 and 49'\n",
    "    \n",
    "    nums = set(nums)\n",
    "    idx = np.random.choice(list(range(13983816)))\n",
    "    comb = combinations(list(range(1, 50)), 6)\n",
    "    winner = set(list(comb)[idx])\n",
    "    wins = len(nums.intersection(winner))\n",
    "    \n",
    "    if wins == 6:  \n",
    "        print('Congratulations! You have won the jackpot!!')\n",
    "    elif wins == 0:  \n",
    "        print('Sorry! You have not won!!')\n",
    "    else:\n",
    "        print('Sorry! But you match ' + str(wins) + ' numbers correct')"
   ]
  },
  {
   "cell_type": "markdown",
   "metadata": {},
   "source": [
    "### Testing the function - Playing the Lottery"
   ]
  },
  {
   "cell_type": "code",
   "execution_count": 33,
   "metadata": {},
   "outputs": [
    {
     "name": "stdout",
     "output_type": "stream",
     "text": [
      "Sorry! You have not won!!\n"
     ]
    }
   ],
   "source": [
    "nums = [3, 11, 12, 14, 41, 43]\n",
    "ticket_probability(nums)"
   ]
  },
  {
   "cell_type": "code",
   "execution_count": 34,
   "metadata": {},
   "outputs": [
    {
     "name": "stdout",
     "output_type": "stream",
     "text": [
      "Sorry! You have not won!!\n"
     ]
    }
   ],
   "source": [
    "nums = [3, 11, 12, 14, 41, 43]\n",
    "ticket_probability(nums)"
   ]
  },
  {
   "cell_type": "code",
   "execution_count": 35,
   "metadata": {},
   "outputs": [
    {
     "name": "stdout",
     "output_type": "stream",
     "text": [
      "Sorry! But you match 3 numbers correct\n"
     ]
    }
   ],
   "source": [
    "nums = [3, 11, 12, 14, 41, 43]\n",
    "ticket_probability(nums)"
   ]
  },
  {
   "cell_type": "code",
   "execution_count": 36,
   "metadata": {},
   "outputs": [
    {
     "name": "stdout",
     "output_type": "stream",
     "text": [
      "Sorry! You have not won!!\n"
     ]
    }
   ],
   "source": [
    "nums = [3, 11, 12, 14, 41, 43]\n",
    "ticket_probability(nums)"
   ]
  }
 ],
 "metadata": {
  "kernelspec": {
   "display_name": "Python 3 (ipykernel)",
   "language": "python",
   "name": "python3"
  },
  "language_info": {
   "codemirror_mode": {
    "name": "ipython",
    "version": 3
   },
   "file_extension": ".py",
   "mimetype": "text/x-python",
   "name": "python",
   "nbconvert_exporter": "python",
   "pygments_lexer": "ipython3",
   "version": "3.9.17"
  }
 },
 "nbformat": 4,
 "nbformat_minor": 2
}
